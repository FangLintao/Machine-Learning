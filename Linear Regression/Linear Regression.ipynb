{
 "cells": [
  {
   "cell_type": "code",
   "execution_count": null,
   "metadata": {},
   "outputs": [],
   "source": [
    "import numpy as np\n",
    "import pandas as pd\n",
    "import matplotlib.pyplot as plt\n",
    "import seaborn as sns\n",
    "\n",
    "from sklearn.model_selection import train_test_split\n",
    "from sklearn.linear_model import LinearRegression\n",
    "from sklearn.preprocessing import PolynomialFeatures\n",
    "from sklearn import metrics\n",
    "from sklearn.datasets import load_boston\n",
    "%matplotlib inline"
   ]
  },
  {
   "cell_type": "markdown",
   "metadata": {},
   "source": [
    "##### exploration on basic data information"
   ]
  },
  {
   "cell_type": "code",
   "execution_count": null,
   "metadata": {},
   "outputs": [],
   "source": [
    "dataset = load_boston()\n",
    "dataset[\"target\"] = dataset[\"target\"].reshape(-1,1)\n",
    "dataset[\"data\"] = np.concatenate((dataset[\"data\"], dataset[\"target\"]),axis=1)\n",
    "df = pd.DataFrame(dataset[\"data\"])\n",
    "dataset[\"feature_names\"] = np.append(dataset[\"feature_names\"],\"MEDV\")\n",
    "df.columns = dataset[\"feature_names\"]\n",
    "df"
   ]
  },
  {
   "cell_type": "markdown",
   "metadata": {},
   "source": [
    "##### Exploratory Data Analysis"
   ]
  },
  {
   "cell_type": "code",
   "execution_count": null,
   "metadata": {},
   "outputs": [],
   "source": [
    "sns.set_palette(\"GnBu_d\")\n",
    "sns.set_style('whitegrid')\n",
    "#sns.set(font_scale = 2.5)"
   ]
  },
  {
   "cell_type": "markdown",
   "metadata": {},
   "source": [
    "##### Training and Testing"
   ]
  },
  {
   "cell_type": "code",
   "execution_count": null,
   "metadata": {},
   "outputs": [],
   "source": [
    "col = df.columns\n",
    "x = col[:-1]\n",
    "X_data = df[x]\n",
    "y = col[-1]\n",
    "Y_data = df[y]"
   ]
  },
  {
   "cell_type": "code",
   "execution_count": null,
   "metadata": {},
   "outputs": [],
   "source": [
    "x_train,x_test,y_train,y_test = train_test_split(X_data,Y_data, test_size = 0.3, random_state = 1)"
   ]
  },
  {
   "cell_type": "code",
   "execution_count": null,
   "metadata": {},
   "outputs": [],
   "source": [
    "f, axes = plt.subplots(1, 4, figsize=(48, 12), sharex=True)\n",
    "for deg in range(4):\n",
    "    polynomial_features= PolynomialFeatures(degree=(deg+1))\n",
    "    x_poly_train = polynomial_features.fit_transform(x_train)\n",
    "    x_poly_test = polynomial_features.fit_transform(x_test)\n",
    "    model = LinearRegression()\n",
    "    model.fit(x_poly_train,y_train)\n",
    "    prediction = model.predict(x_poly_test)\n",
    "    \n",
    "    Data = np.concatenate((np.array(y_test).reshape(-1,1),prediction.reshape(-1,1)),axis=1)\n",
    "    d = pd.DataFrame(Data,columns = [\"y_test\",\"prediction\"])\n",
    "    ax = sns.scatterplot(x=\"y_test\", y=\"prediction\", data=d, ax=axes[deg],label=\"polynomial = {}\".format(deg+1),s =100)"
   ]
  },
  {
   "cell_type": "code",
   "execution_count": null,
   "metadata": {
    "scrolled": true
   },
   "outputs": [],
   "source": [
    "for i in range(4)\n",
    "    polynomial_features= PolynomialFeatures(degree=(i+1))\n",
    "    x_poly_train = polynomial_features.fit_transform(x_train)\n",
    "    x_poly_test = polynomial_features.fit_transform(x_test)\n",
    "    model = LinearRegression()\n",
    "    model.fit(x_poly_train,y_train)\n",
    "    prediction = model.predict(x_poly_test)\n",
    "    sns.distplot(y_test - prediction,bins=50,label=\"polynominal = {}\".format(i+1))\n",
    "    plt.legend()\n",
    "    plt.savefig(\"polynominal = {}.png\".format(i+1))"
   ]
  },
  {
   "cell_type": "code",
   "execution_count": null,
   "metadata": {},
   "outputs": [],
   "source": [
    "MAE = []\n",
    "MSE = []\n",
    "RMAE = []\n",
    "for deg in range(4):\n",
    "    polynomial_features= PolynomialFeatures(degree=(deg+1))\n",
    "    x_poly_train = polynomial_features.fit_transform(x_train)\n",
    "    x_poly_test = polynomial_features.fit_transform(x_test)\n",
    "    model = LinearRegression()\n",
    "    model.fit(x_poly_train,y_train)\n",
    "    prediction = model.predict(x_poly_test)\n",
    "    MAE.append(metrics.mean_absolute_error(y_test,prediction))\n",
    "    MSE.append(metrics.mean_squared_error(y_test,prediction))\n",
    "    RMAE.append(np.sqrt(metrics.mean_squared_error(y_test,prediction)))\n",
    "MAE = np.array(MAE).reshape(-1,1)\n",
    "MSE = np.array(MSE).reshape(-1,1)\n",
    "RMAE = np.array(RMAE).reshape(-1,1)\n",
    "polynomial = np.arange(1,5).reshape(-1,1)\n",
    "MAE_df = pd.DataFrame(np.concatenate((polynomial,MAE),axis=1),columns=[\"polynomial\",\"MAE\"])\n",
    "MSE_df = pd.DataFrame(np.concatenate((polynomial,MSE),axis=1),columns=[\"polynomial\",\"MSE\"])\n",
    "RMAE_df = pd.DataFrame(np.concatenate((polynomial,RMAE),axis=1),columns=[\"polynomial\",\"RMAE\"])\n",
    "\n",
    "sns.lineplot(x=\"polynomial\", y=\"RMAE\", data=RMAE_df,label=\"RMAE\")\n",
    "plt.savefig(\"RMAE.png\")\n",
    "sns.lineplot(x=\"polynomial\", y=\"MAE\", data=RMAE_df,label=\"MAE\")\n",
    "plt.savefig(\"MAE.png\")\n",
    "sns.lineplot(x=\"polynomial\", y=\"MSE\", data=RMAE_df,label=\"MSE\")\n",
    "plt.savefig(\"MSE.png\")"
   ]
  },
  {
   "cell_type": "markdown",
   "metadata": {},
   "source": [
    "##### showing plots between features and weights"
   ]
  },
  {
   "cell_type": "code",
   "execution_count": null,
   "metadata": {},
   "outputs": [],
   "source": [
    "col = df.columns\n",
    "x = col[:-1]\n",
    "X_data = df[x]\n",
    "y = col[-1]\n",
    "Y_data = df[y]\n",
    "x_train,x_test,y_train,y_test = train_test_split(X_data,Y_data, test_size = 0.3, random_state = 1)\n",
    "polynomial_features= PolynomialFeatures(degree=1)\n",
    "x_poly_train = polynomial_features.fit_transform(x_train)\n",
    "x_poly_test = polynomial_features.fit_transform(x_test)\n",
    "model = LinearRegression()\n",
    "model.fit(x_poly_train,y_train)\n",
    "coeffecients = pd.DataFrame(model.coef_[:-1], X_data.columns)\n",
    "coeffecients.columns = [\"Coefficient\"]\n",
    "coeffecients"
   ]
  },
  {
   "cell_type": "code",
   "execution_count": null,
   "metadata": {},
   "outputs": [],
   "source": []
  }
 ],
 "metadata": {
  "kernelspec": {
   "display_name": "Python 3",
   "language": "python",
   "name": "python3"
  },
  "language_info": {
   "codemirror_mode": {
    "name": "ipython",
    "version": 3
   },
   "file_extension": ".py",
   "mimetype": "text/x-python",
   "name": "python",
   "nbconvert_exporter": "python",
   "pygments_lexer": "ipython3",
   "version": "3.7.4"
  }
 },
 "nbformat": 4,
 "nbformat_minor": 4
}
