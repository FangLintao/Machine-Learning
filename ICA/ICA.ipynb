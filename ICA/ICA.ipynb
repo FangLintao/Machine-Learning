{
 "cells": [
  {
   "cell_type": "code",
   "execution_count": null,
   "metadata": {},
   "outputs": [],
   "source": [
    "import numpy as np\n",
    "import matplotlib.pyplot as plt\n",
    "from scipy import signal\n",
    "from sklearn.decomposition import FastICA, PCA"
   ]
  },
  {
   "cell_type": "markdown",
   "metadata": {},
   "source": [
    "#### Generate simulated data"
   ]
  },
  {
   "cell_type": "code",
   "execution_count": null,
   "metadata": {},
   "outputs": [],
   "source": [
    "np.random.seed(0)  # set seed for reproducible results\n",
    "n_samples = 2000\n",
    "time = np.linspace(0, 8, n_samples)\n",
    "\n",
    "s1 = np.sin(2 * time)  # Signal 1 : sinusoidal signal\n",
    "s2 = np.sign(np.sin(3 * time))  # Signal 2 : square signal\n",
    "s3 = signal.sawtooth(2 * np.pi * time)  # Signal 3: sawtooth signal\n",
    "\n",
    "S = np.c_[s1, s2, s3]\n",
    "S += 0.2 * np.random.normal(size=S.shape)  # Add noise\n",
    "\n",
    "# Mix data\n",
    "A = np.array([[1, 1, 1], [0.5, 2, 1.0], [1.5, 1.0, 2.0]])  # Mixing matrix\n",
    "X = S.dot(A).T  # Generate observations"
   ]
  },
  {
   "cell_type": "markdown",
   "metadata": {},
   "source": [
    "#### Testing on Sklearn"
   ]
  },
  {
   "cell_type": "code",
   "execution_count": null,
   "metadata": {},
   "outputs": [],
   "source": [
    "ica = FastICA(n_components=3)\n",
    "S_ = ica.fit_transform(X.T)  # Get the estimated sources\n",
    "A_ = ica.mixing_  # Get estimated mixing matrix\n",
    "\n",
    "# compute PCA\n",
    "pca = PCA(n_components=3)\n",
    "H = pca.fit_transform(X.T)  # estimate PCA sources\n",
    "\n",
    "plt.figure(figsize=(9, 6))\n",
    "\n",
    "models = [X.T, S, S_, H]\n",
    "names = ['Observations (mixed signal)',\n",
    "         'True Sources',\n",
    "         'ICA estimated sources',\n",
    "         'PCA estimated sources']\n",
    "colors = ['red', 'steelblue', 'orange']\n",
    "\n",
    "for ii, (model, name) in enumerate(zip(models, names), 1):\n",
    "    plt.subplot(4, 1, ii)\n",
    "    plt.title(name)\n",
    "    for sig, color in zip(model.T, colors):\n",
    "        plt.plot(sig, color=color)\n",
    "\n",
    "plt.tight_layout()\n",
    "plt.show()"
   ]
  },
  {
   "cell_type": "markdown",
   "metadata": {},
   "source": [
    "#### Visualize signal"
   ]
  },
  {
   "cell_type": "code",
   "execution_count": null,
   "metadata": {},
   "outputs": [],
   "source": [
    "fig, ax = plt.subplots(1, 1, figsize=[18, 5])\n",
    "ax.plot(time, S, lw=5)\n",
    "ax.set_xticks([])\n",
    "ax.set_yticks([-1, 1])\n",
    "ax.set_xlim(time[0], time[1999])\n",
    "ax.tick_params(labelsize=12)\n",
    "ax.set_title('Independent sources', fontsize=25)\n",
    "\n",
    "fig, ax = plt.subplots(3, 1, figsize=[18, 5], sharex=True)\n",
    "ax[0].plot(time, X[0], lw=5)\n",
    "ax[0].set_title('Mixed signals', fontsize=25)\n",
    "ax[0].tick_params(labelsize=12)\n",
    "\n",
    "ax[1].plot(time, X[1], lw=5)\n",
    "ax[1].tick_params(labelsize=12)\n",
    "ax[1].set_xlim(time[0], time[-1])\n",
    "\n",
    "ax[2].plot(time, X[2], lw=5)\n",
    "ax[2].tick_params(labelsize=12)\n",
    "ax[2].set_xlim(time[0], time[-1])\n",
    "ax[2].set_xlabel('Sample number', fontsize=20)\n",
    "ax[2].set_xlim(time[0], time[1999])\n",
    "\n",
    "plt.show()"
   ]
  },
  {
   "cell_type": "markdown",
   "metadata": {},
   "source": [
    "#### Comparison of Gaussian vs. Non-Gaussian signals"
   ]
  },
  {
   "cell_type": "code",
   "execution_count": null,
   "metadata": {},
   "outputs": [],
   "source": [
    "# Define two non-gaussian uniform components\n",
    "s1 = np.random.rand(1000)\n",
    "s2 = np.random.rand(1000)\n",
    "s = np.array(([s1, s2]))\n",
    "\n",
    "# Define two gaussian components\n",
    "s1n = np.random.normal(size=1000)\n",
    "s2n = np.random.normal(size=1000)\n",
    "sn = np.array(([s1n, s2n]))\n",
    "\n",
    "# Define orthogonal mixing matrix\n",
    "A = np.array(([0.96, -0.28],[0.28, 0.96]))\n",
    "\n",
    "# Mix signals\n",
    "mixedSignals = s.T.dot(A)\n",
    "mixedSignalsN = sn.T.dot(A)"
   ]
  },
  {
   "cell_type": "code",
   "execution_count": null,
   "metadata": {},
   "outputs": [],
   "source": [
    "# Plot results\n",
    "fig, ax = plt.subplots(2, 2, figsize=[18, 10])\n",
    "ax[0][0].scatter(s[0], s[1])\n",
    "ax[0][0].tick_params(labelsize=12)\n",
    "ax[0][0].set_title('Sources (non-Gaussian)', fontsize=25)\n",
    "ax[0][0].set_xlim([-0.25, 1.5])\n",
    "ax[0][0].set_xticks([])\n",
    "\n",
    "ax[0][1].scatter(sn[0], sn[1])\n",
    "ax[0][1].tick_params(labelsize=12)\n",
    "ax[0][1].set_title('Sources (Gaussian)', fontsize=25)\n",
    "ax[0][1].set_xlim([-4, 4])\n",
    "ax[0][1].set_xticks([])\n",
    "ax[0][1].set_yticks([])\n",
    "\n",
    "ax[1][0].scatter(mixedSignals.T[0], mixedSignals.T[1])\n",
    "ax[1][0].tick_params(labelsize=12)\n",
    "ax[1][0].set_title('Mixed signals (non-Gaussian sources)', fontsize=25)\n",
    "ax[1][0].set_xlim([-0.25, 1.5])\n",
    "\n",
    "ax[1][1].scatter(mixedSignalsN.T[0], mixedSignalsN.T[1])\n",
    "ax[1][1].tick_params(labelsize=12)\n",
    "ax[1][1].set_title('Mixed signals (Gaussian sources)', fontsize=25)\n",
    "ax[1][1].set_xlim([-4, 4])\n",
    "ax[1][1].set_yticks([])\n",
    "\n",
    "plt.show()\n",
    "\n"
   ]
  },
  {
   "cell_type": "code",
   "execution_count": null,
   "metadata": {},
   "outputs": [],
   "source": [
    "fig, ax = plt.subplots(1, 2, figsize=[18, 5])\n",
    "ax[0].scatter(S.T[0], S.T[1], c=S.T[2])\n",
    "ax[0].tick_params(labelsize=12)\n",
    "ax[0].set_yticks([-1, 0, 1])\n",
    "ax[0].set_xticks([-1, 0, 1])\n",
    "ax[0].set_xlabel('signal 1', fontsize=20)\n",
    "ax[0].set_ylabel('signal 2', fontsize=20)\n",
    "ax[0].set_title('Sources', fontsize=25)\n",
    "\n",
    "ax[1].scatter(X[0], X[1], c=X[2])\n",
    "ax[1].tick_params(labelsize=12)\n",
    "ax[1].set_yticks([-1.5, 0, 1.5])\n",
    "ax[1].set_xticks([-1.5, 0, 1.5])\n",
    "ax[1].set_xlabel('signal 1', fontsize=20)\n",
    "ax[1].set_title('Mixed signals', fontsize=25)\n",
    "plt.show()"
   ]
  },
  {
   "cell_type": "markdown",
   "metadata": {},
   "source": [
    "#### Preprocessing"
   ]
  },
  {
   "cell_type": "code",
   "execution_count": null,
   "metadata": {},
   "outputs": [],
   "source": [
    "def center(x):\n",
    "    mean = np.mean(x, axis=1, keepdims=True)\n",
    "    centered =  x - mean \n",
    "    return centered, mean\n",
    "\n",
    "def covariance(x):\n",
    "    mean = np.mean(x, axis=1, keepdims=True)\n",
    "    n = np.shape(x)[1] - 1\n",
    "    m = x - mean\n",
    "\n",
    "    return (m.dot(m.T))/n\n",
    "\n",
    "def whiten(x):\n",
    "    # Calculate the covariance matrix\n",
    "    coVarM = covariance(X) \n",
    "    \n",
    "    # Single value decoposition\n",
    "    U, S, V = np.linalg.svd(coVarM)\n",
    "    \n",
    "    # Calculate diagonal matrix of eigenvalues\n",
    "    d = np.diag(1.0 / np.sqrt(S)) \n",
    "    \n",
    "    # Calculate whitening matrix\n",
    "    whiteM = np.dot(U, np.dot(d, U.T))\n",
    "    \n",
    "    # Project onto whitening matrix\n",
    "    Xw = np.dot(whiteM, X) \n",
    "    \n",
    "    return Xw, whiteM"
   ]
  },
  {
   "cell_type": "markdown",
   "metadata": {},
   "source": [
    "#### Testing on FastICA"
   ]
  },
  {
   "cell_type": "code",
   "execution_count": null,
   "metadata": {},
   "outputs": [],
   "source": [
    "def fastIca(signals,  alpha = 1, thresh=1e-8, iterations=5000):\n",
    "    m, n = signals.shape\n",
    "\n",
    "    # Initialize random weights\n",
    "    W = np.random.rand(m, m)\n",
    "\n",
    "    for c in range(m):\n",
    "            w = W[c, :].copy().reshape(m, 1)\n",
    "            w = w / np.sqrt((w ** 2).sum())\n",
    "\n",
    "            i = 0\n",
    "            lim = 100\n",
    "            while ((lim > thresh) & (i < iterations)):\n",
    "\n",
    "                # Dot product of weight and signal\n",
    "                ws = np.dot(w.T, signals)\n",
    "\n",
    "                # Pass w*s into contrast function g\n",
    "                wg = np.tanh(ws * alpha).T\n",
    "\n",
    "                # Pass w*s into g prime \n",
    "                wg_ = (1 - np.square(np.tanh(ws))) * alpha\n",
    "\n",
    "                # Update weights\n",
    "                wNew = (signals * wg.T).mean(axis=1) - wg_.mean() * w.squeeze()\n",
    "\n",
    "                # Decorrelate weights              \n",
    "                wNew = wNew - np.dot(np.dot(wNew, W[:c].T), W[:c])\n",
    "                wNew = wNew / np.sqrt((wNew ** 2).sum())\n",
    "\n",
    "                # Calculate limit condition\n",
    "                lim = np.abs(np.abs((wNew * w).sum()) - 1)\n",
    "                \n",
    "                # Update weights\n",
    "                w = wNew\n",
    "                \n",
    "                # Update counter\n",
    "                i += 1\n",
    "\n",
    "            W[c, :] = w.T\n",
    "    return W"
   ]
  },
  {
   "cell_type": "code",
   "execution_count": null,
   "metadata": {},
   "outputs": [],
   "source": [
    "# Center signals\n",
    "Xc, meanX = center(X)\n",
    "# Whiten mixed signals\n",
    "Xw, whiteM = whiten(Xc)\n",
    "# Check if covariance of whitened matrix equals identity matrix\n",
    "print(\"np.round(covariance(Xw)) ->>>>>>>>>>\",np.round(covariance(Xw)))\n",
    "\n",
    "W = fastIca(Xw,  alpha=1)\n",
    "\n",
    "#Un-mix signals using \n",
    "unMixed = Xw.T.dot(W.T)\n",
    "\n",
    "# Subtract mean\n",
    "unMixed = (unMixed.T - meanX).T\n",
    "\n",
    "# Plot input signals (not mixed)\n",
    "fig, ax = plt.subplots(1, 1, figsize=[18, 5])\n",
    "ax.plot(S, lw=5)\n",
    "ax.tick_params(labelsize=12)\n",
    "ax.set_xticks([])\n",
    "ax.set_yticks([-1, 1])\n",
    "ax.set_title('Source signals', fontsize=25)\n",
    "ax.set_xlim(0, 1999)\n",
    "\n",
    "fig, ax = plt.subplots(1, 1, figsize=[18, 5])\n",
    "ax.plot(unMixed, '--', label='Recovered signals', lw=5)\n",
    "ax.set_xlabel('Sample number', fontsize=20)\n",
    "ax.set_title('Recovered signals', fontsize=25)\n",
    "ax.set_xlim(0, 1999)\n",
    "\n",
    "plt.show()"
   ]
  },
  {
   "cell_type": "markdown",
   "metadata": {},
   "source": [
    "#### Kurtosis"
   ]
  },
  {
   "cell_type": "code",
   "execution_count": null,
   "metadata": {},
   "outputs": [],
   "source": [
    "# Calculate Kurtosis\n",
    "\n",
    "def kurt(x):\n",
    "    n = np.shape(x)[0]\n",
    "    mean = np.sum((x**1)/n) # Calculate the mean\n",
    "    var = np.sum((x-mean)**2)/n # Calculate the variance\n",
    "    skew = np.sum((x-mean)**3)/n # Calculate the skewness\n",
    "    kurt = np.sum((x-mean)**4)/n # Calculate the kurtosis\n",
    "    kurt = kurt/(var**2)-3\n",
    "\n",
    "    return kurt, skew, var, mean"
   ]
  },
  {
   "cell_type": "code",
   "execution_count": null,
   "metadata": {},
   "outputs": [],
   "source": [
    "import seaborn as sns\n",
    "\n",
    "fig, ax = plt.subplots(1, 1, figsize=(10,10))\n",
    "for i in range(X.shape[0]):\n",
    "    \n",
    "    sns.kdeplot(X[i, :], lw=5, label='Mixed Kurtosis={}'.format(np.round(kurt(X[i, :])[0], decimals=1)))\n",
    "    \n",
    "for i in range(X.shape[0]):   \n",
    "    sns.kdeplot(unMixed[i, :], lw=5, ls='--', label='unMixed Kurtosis={}'.format(np.around(kurt(unMixed[i, :])[0], decimals=1)))\n",
    "\n",
    "ax.tick_params(labelsize=12)\n",
    "ax.set_xlabel('value', fontsize=20)\n",
    "ax.set_ylabel('count', fontsize=20)\n",
    "ax.set_title('KDE plot of ', fontsize=25)\n",
    "plt.show()"
   ]
  }
 ],
 "metadata": {
  "kernelspec": {
   "display_name": "Python 3",
   "language": "python",
   "name": "python3"
  },
  "language_info": {
   "codemirror_mode": {
    "name": "ipython",
    "version": 3
   },
   "file_extension": ".py",
   "mimetype": "text/x-python",
   "name": "python",
   "nbconvert_exporter": "python",
   "pygments_lexer": "ipython3",
   "version": "3.7.4"
  }
 },
 "nbformat": 4,
 "nbformat_minor": 4
}
