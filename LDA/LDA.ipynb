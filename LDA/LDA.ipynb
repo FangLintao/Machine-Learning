{
 "cells": [
  {
   "cell_type": "code",
   "execution_count": null,
   "metadata": {},
   "outputs": [],
   "source": [
    "from sklearn.datasets import load_iris\n",
    "from sklearn.model_selection import  train_test_split\n",
    "from sklearn.discriminant_analysis import LinearDiscriminantAnalysis\n",
    "from sklearn import metrics\n",
    "\n",
    "import pandas as pd\n",
    "from pandas.plotting import scatter_matrix\n",
    "import numpy as np\n",
    "from matplotlib import style\n",
    "import matplotlib.pyplot as plt\n",
    "style.use(\"ggplot\")"
   ]
  },
  {
   "cell_type": "code",
   "execution_count": null,
   "metadata": {},
   "outputs": [],
   "source": [
    "iris_datasets = load_iris()\n",
    "datasets = iris_datasets[\"data\"]\n",
    "print(\"the shape of datasets -> \", datasets.shape)\n",
    "labels = iris_datasets[\"target\"]\n",
    "print(\"the shape of leabels -> \", labels.shape)\n",
    "print(\"the leabels -> \", labels)\n",
    "names = iris_datasets[\"target_names\"]\n",
    "print(\"the names of iris -> \", names)\n",
    "feature_names = iris_datasets[\"feature_names\"]\n",
    "print(\"the features of iris -> \", feature_names)"
   ]
  },
  {
   "cell_type": "code",
   "execution_count": null,
   "metadata": {},
   "outputs": [],
   "source": [
    "setosa = datasets[:50,:]\n",
    "versicolor = datasets[50:100,:]\n",
    "virginica = datasets[100:150,:]"
   ]
  },
  {
   "cell_type": "code",
   "execution_count": null,
   "metadata": {},
   "outputs": [],
   "source": [
    "fig = plt.figure(figsize=(10, 10))\n",
    "for i in range(4):\n",
    "    Max = np.max(datasets[:,i])\n",
    "    Min = np.min(datasets[:,i])\n",
    "    ax = fig.add_subplot(2,2,i+1)\n",
    "    ax.hist(setosa[:,i],bins=50, range=(Min,Max),color='blue', label=\"setosa\",stacked=True)\n",
    "    ax.hist(versicolor[:,i],bins=50, range=(Min,Max),color='green', label=\"versicolor\",stacked=True)\n",
    "    ax.hist(virginica[:,i],bins=50, range=(Min,Max),color='red', label=\"virginica\",stacked=True)\n",
    "    ax.set_xlabel(\"{}\".format(feature_names[i]))\n",
    "    plt.legend()\n",
    "plt.show()"
   ]
  },
  {
   "cell_type": "code",
   "execution_count": null,
   "metadata": {},
   "outputs": [],
   "source": [
    "Data_setosa = pd.DataFrame(setosa,columns=feature_names)\n",
    "Data_versicolor = pd.DataFrame(versicolor,columns=feature_names)\n",
    "Data_virginica = pd.DataFrame(virginica,columns=feature_names)\n",
    "scatter_matrix(Data_setosa,figsize=(8,8),c=\"blue\",alpha=1)\n",
    "plt.suptitle(\"setosa\")\n",
    "scatter_matrix(Data_versicolor,figsize=(8,8),c=\"blue\",alpha=1)\n",
    "plt.suptitle(\"versicolor\")\n",
    "scatter_matrix(Data_virginica,figsize=(8,8),c=\"blue\",alpha=1)\n",
    "plt.suptitle(\"virginica\")\n",
    "plt.show()"
   ]
  },
  {
   "cell_type": "code",
   "execution_count": null,
   "metadata": {},
   "outputs": [],
   "source": [
    "# for feature1 and feature2\n",
    "setosa_mean = np.mean(setosa,axis=0)\n",
    "print(\"setosa_mean\", setosa_mean)\n",
    "versicolor_mean = np.mean(versicolor,axis=0)\n",
    "print(\"versicolor_mean\",versicolor_mean)\n",
    "virginica_mean = np.mean(virginica,axis=0)\n",
    "print(\"virginica_mean\",virginica_mean)\n",
    "\n",
    "S_setosa = np.zeros((4,4))\n",
    "S_versicolor  = np.zeros((4,4))\n",
    "S_virginica  = np.zeros((4,4))\n",
    "\n",
    "for i in range(50):\n",
    "    row_setosa = setosa[i,:].reshape(4,1)\n",
    "    setosa_mean = setosa_mean.reshape(4,1)\n",
    "    S_setosa += (row_setosa-setosa_mean).dot((row_setosa-setosa_mean).T)\n",
    "    \n",
    "    row_versicolor = versicolor[i,:].reshape(4,1)\n",
    "    versicolor_mean = versicolor_mean.reshape(4,1)\n",
    "    S_versicolor += (row_versicolor-versicolor_mean).dot((row_versicolor-versicolor_mean).T)\n",
    "    \n",
    "    row_virginica = virginica[i,:].reshape(4,1)\n",
    "    virginica_mean = virginica_mean.reshape(4,1)\n",
    "    S_virginica += (row_virginica-virginica_mean).dot((row_virginica-virginica_mean).T)\n",
    "S_setosa = S_setosa #/ (setosa.shape[0]-1)\n",
    "print(\"S_setosa -> \",S_setosa)\n",
    "S_versicolor  = S_versicolor #/ (versicolor .shape[0]-1)\n",
    "print(\"S_versicolor -> \",S_versicolor)\n",
    "S_virginica  = S_virginica #/ (versicolor .shape[0]-1)\n",
    "print(\"S_virginica -> \",S_virginica)\n",
    "\n",
    "Sw = (S_setosa+S_versicolor+S_virginica) #/3\n",
    "print(\"Sw -> \",Sw)\n",
    "\n",
    "s_mean = setosa_mean.reshape(-1,1)\n",
    "ve_mean = versicolor_mean.reshape(-1,1)\n",
    "vi_mean = virginica_mean.reshape(-1,1)\n",
    "overall_mean = np.mean(datasets,axis=0).reshape(-1,1)\n",
    "Sb = np.zeros((4,4))\n",
    "for mean in [s_mean, ve_mean, vi_mean]:\n",
    "    Sb += 50*((mean-overall_mean).dot((mean-overall_mean).T))\n",
    "print(\"Sb -> \",Sb)\n",
    "\n",
    "# 不是很理解\n",
    "eig_vals, eig_vecs = np.linalg.eig(np.linalg.inv(Sw).dot(Sb))\n",
    "print(\"eig_vals -> \",eig_vals)\n",
    "print(\"eig_vecs -> \",eig_vecs)\n",
    "for i in range(len(eig_vals)):\n",
    "    eigv = eig_vecs[:,i].reshape(4,1)\n",
    "    np.testing.assert_array_almost_equal(np.linalg.inv(Sw).dot((Sb)).dot((eigv)),\n",
    "                                         eig_vals[i]*eigv,\n",
    "                                         decimal=0, err_msg='', verbose=True)\n",
    "print('ok')"
   ]
  },
  {
   "cell_type": "code",
   "execution_count": null,
   "metadata": {},
   "outputs": [],
   "source": [
    "# Make a list of (eigenvalue, eigenvector) tuples\n",
    "eig_pairs = zip(eig_vals, eig_vecs)\n",
    "# Sort the (eigenvalue, eigenvector) tuples from high to low\n",
    "eig_pairs = sorted(eig_pairs, key=lambda k: k[0], reverse=True)\n",
    "\n",
    "# Visually confirm that the list is correctly sorted by decreasing eigenvalues\n",
    "\n",
    "print('Eigenvalues in decreasing order:\\n')\n",
    "for i in eig_pairs:\n",
    "    print(i[0])\n",
    "print('Variance explained:\\n')\n",
    "eigv_sum = sum(eig_vals)\n",
    "for i,j in enumerate(eig_pairs):\n",
    "    print('eigenvalue {0:}: {1:.2%}'.format(i+1, (j[0]/eigv_sum).real))"
   ]
  },
  {
   "cell_type": "code",
   "execution_count": null,
   "metadata": {},
   "outputs": [],
   "source": [
    "W = np.hstack((eig_pairs[0][1].reshape(4,1), eig_pairs[1][1].reshape(4,1)))\n",
    "print('Matrix W:\\n', W.real)\n",
    "Datasets = datasets.dot(W)\n",
    "assert Datasets.shape == (150,2), \"The matrix is not 150x2 dimensional.\""
   ]
  },
  {
   "cell_type": "code",
   "execution_count": null,
   "metadata": {},
   "outputs": [],
   "source": [
    "plt.scatter(Datasets[:50,0],Datasets[:50,1],marker='o',cmap='red',label=\"setosa\")\n",
    "plt.scatter(Datasets[50:100,0],Datasets[50:100,1],marker='o',cmap='blue',label=\"versicolor\")\n",
    "plt.scatter(Datasets[100:150,0],Datasets[100:150,1],marker='o',cmap='green',label=\"virginica\")\n",
    "plt.xlabel(\"LDA1\")\n",
    "plt.ylabel(\"LDA2\")\n",
    "plt.legend()\n",
    "plt.show()"
   ]
  },
  {
   "cell_type": "code",
   "execution_count": null,
   "metadata": {},
   "outputs": [],
   "source": [
    "plt.scatter(setosa_mean[0],setosa_mean[1],marker='*',cmap='green',s=300)\n",
    "plt.scatter(setosa[:,0],setosa[:,1],marker='o',cmap='red')\n",
    "plt.scatter(versicolor_mean[0],versicolor_mean[1],marker='*',cmap='green',s=300)\n",
    "plt.scatter(versicolor[:,0],versicolor[:,1],marker='o',cmap='blue')\n",
    "plt.xlabel('sepal length (cm)')\n",
    "plt.ylabel('sepal width (cm)')\n",
    "plt.title(\"setosa & versicolor\")\n",
    "plt.show()"
   ]
  },
  {
   "cell_type": "code",
   "execution_count": null,
   "metadata": {},
   "outputs": [],
   "source": [
    "train_x, val_x, train_y, val_y = train_test_split(datasets, labels,test_size = 0.2)\n",
    "LDA = LinearDiscriminantAnalysis()\n",
    "LDA.fit(train_x,train_y)\n",
    "prediction = LDA.predict(val_x)\n",
    "print(\"prediction from LDA -> \",prediction)\n",
    "print(\"validation labels -> \",val_y)\n",
    "# model.score(val_x, val_y) & metrics.accuracy_score(prediction, val_y) -> same effects\n",
    "accuracy = LDA.score(val_x,val_y)\n",
    "print(\"the accuracy -> \",accuracy)\n",
    "accuracy_score = metrics.accuracy_score(prediction,val_y)\n",
    "print(\"the accuracy score -> \",accuracy_score)"
   ]
  },
  {
   "cell_type": "code",
   "execution_count": null,
   "metadata": {},
   "outputs": [],
   "source": []
  }
 ],
 "metadata": {
  "kernelspec": {
   "display_name": "Python 3",
   "language": "python",
   "name": "python3"
  },
  "language_info": {
   "codemirror_mode": {
    "name": "ipython",
    "version": 3
   },
   "file_extension": ".py",
   "mimetype": "text/x-python",
   "name": "python",
   "nbconvert_exporter": "python",
   "pygments_lexer": "ipython3",
   "version": "3.7.4"
  }
 },
 "nbformat": 4,
 "nbformat_minor": 4
}
